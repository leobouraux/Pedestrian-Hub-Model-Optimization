{
 "cells": [
  {
   "cell_type": "code",
   "execution_count": 11,
   "metadata": {},
   "outputs": [],
   "source": [
    "import numpy as np\n",
    "import re\n",
    "import matplotlib.pyplot as plt\n",
    "from IPython.display import set_matplotlib_formats\n",
    "set_matplotlib_formats('retina')"
   ]
  },
  {
   "cell_type": "markdown",
   "metadata": {},
   "source": [
    "_____\n",
    "\n",
    "# Process Data methods"
   ]
  },
  {
   "cell_type": "code",
   "execution_count": 12,
   "metadata": {},
   "outputs": [],
   "source": [
    "def processDataLSA(pathTXT):\n",
    "    best_y = []\n",
    "    curr_y = []\n",
    "    acceptance_pb = []\n",
    "    acc_best_sol = []\n",
    "    temp = []\n",
    "    runtime = 0\n",
    "    iteration_nbr = 0\n",
    "    with open(pathTXT, \"r\") as file:\n",
    "        i=0\n",
    "        for line in file:\n",
    "            if(i!=0):\n",
    "                if(line.startswith(\"Runtime\")):\n",
    "                    runtime = float(re.sub(\"[^0-9^.]\", \"\", line))\n",
    "                elif(line.startswith(\"Nbr\")):\n",
    "                    iteration_nbr = int(re.sub(\"[^0-9]\", \"\", line))\n",
    "                else:\n",
    "                    BEST_y, CURR_y, ACCEPT_PB, ACC_BEST_Sol, TEMP, nothing  = line.split(\"|\")\n",
    "                    best_y.append(float(BEST_y.strip()))\n",
    "                    curr_y.append(float(CURR_y.strip()))\n",
    "                    acceptance_pb.append(float(ACCEPT_PB.strip()))\n",
    "                    acc_best_sol.append(ACC_BEST_Sol.strip())\n",
    "                    temp.append(float(TEMP.strip()))\n",
    "            i+=1\n",
    "\n",
    "    best_y = np.asarray(best_y)\n",
    "    curr_y = np.asarray(curr_y)\n",
    "    acceptance_pb = np.asarray(acceptance_pb)\n",
    "    acc_best_sol = np.asarray(acc_best_sol)\n",
    "    temp = np.asarray(temp)\n",
    "    \n",
    "    return best_y, curr_y, acceptance_pb, acc_best_sol, temp, runtime, iteration_nbr"
   ]
  },
  {
   "cell_type": "code",
   "execution_count": 13,
   "metadata": {},
   "outputs": [],
   "source": [
    "def processDataDSA(pathTXT):\n",
    "    best_y = []\n",
    "    curr_y = []\n",
    "    acceptance_pb = []\n",
    "    acc_best_sol = []\n",
    "    temp = []\n",
    "    density = []\n",
    "    markov_len = []\n",
    "    runtime = 0\n",
    "    iteration_nbr = 0\n",
    "    with open(pathTXT, \"r\") as file:\n",
    "        i=0\n",
    "        for line in file:\n",
    "            if(i!=0):\n",
    "                if(line.startswith(\"Runtime\")):\n",
    "                    runtime = float(re.sub(\"[^0-9^.]\", \"\", line))\n",
    "                elif(line.startswith(\"Nbr\")):\n",
    "                    iteration_nbr = int(re.sub(\"[^0-9]\", \"\", line))\n",
    "                else:\n",
    "                    BEST_y, CURR_y, ACCEPT_PB, ACC_BEST_Sol, TEMP, DENSITY, MARKOV_LEN ,nothing  = line.split(\"|\")\n",
    "                    best_y.append(float(BEST_y.strip()))\n",
    "                    curr_y.append(float(CURR_y.strip()))\n",
    "                    acceptance_pb.append(float(ACCEPT_PB.strip()))\n",
    "                    acc_best_sol.append(ACC_BEST_Sol.strip())\n",
    "                    temp.append(float(TEMP.strip()))\n",
    "                    density.append(float(DENSITY.strip()))\n",
    "                    markov_len.append(float(MARKOV_LEN.strip()))\n",
    "            i+=1\n",
    "\n",
    "    best_y = np.asarray(best_y)\n",
    "    curr_y = np.asarray(curr_y)\n",
    "    acceptance_pb = np.asarray(acceptance_pb)\n",
    "    acc_best_sol = np.asarray(acc_best_sol)\n",
    "    temp = np.asarray(temp)\n",
    "    density = np.asarray(density)\n",
    "    markov_len = np.asarray(markov_len)\n",
    "    \n",
    "    return best_y, curr_y, acceptance_pb, acc_best_sol, temp, density, markov_len, runtime, iteration_nbr"
   ]
  },
  {
   "cell_type": "code",
   "execution_count": 14,
   "metadata": {},
   "outputs": [],
   "source": [
    "def processDataDSA_MF(pathTXT):\n",
    "    currX = []\n",
    "    with open(pathTXT, \"r\") as file:\n",
    "        i=0\n",
    "        for line in file:\n",
    "            if(i!=0):\n",
    "                CURR_X ,nothing  = line.split(\"|\")\n",
    "                currX.append(float(CURR_X.strip()))\n",
    "            else:\n",
    "                i+=1\n",
    "    currX = np.asarray(currX)\n",
    "    return currX"
   ]
  },
  {
   "cell_type": "code",
   "execution_count": null,
   "metadata": {},
   "outputs": [],
   "source": []
  },
  {
   "cell_type": "code",
   "execution_count": null,
   "metadata": {},
   "outputs": [],
   "source": []
  }
 ],
 "metadata": {
  "kernelspec": {
   "display_name": "Python 3",
   "language": "python",
   "name": "python3"
  },
  "language_info": {
   "codemirror_mode": {
    "name": "ipython",
    "version": 3
   },
   "file_extension": ".py",
   "mimetype": "text/x-python",
   "name": "python",
   "nbconvert_exporter": "python",
   "pygments_lexer": "ipython3",
   "version": "3.7.1"
  }
 },
 "nbformat": 4,
 "nbformat_minor": 2
}
