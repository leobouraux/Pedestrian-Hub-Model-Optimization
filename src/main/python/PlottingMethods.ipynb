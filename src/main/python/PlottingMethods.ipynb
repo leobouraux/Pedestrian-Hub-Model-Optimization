{
 "cells": [
  {
   "cell_type": "code",
   "execution_count": 1,
   "metadata": {},
   "outputs": [],
   "source": [
    "import numpy as np\n",
    "import re\n",
    "import matplotlib\n",
    "import matplotlib.pyplot as plt\n",
    "\n",
    "from IPython.display import set_matplotlib_formats\n",
    "set_matplotlib_formats('retina')\n",
    "\n",
    "%run ProcessData.ipynb"
   ]
  },
  {
   "cell_type": "markdown",
   "metadata": {},
   "source": [
    "\n",
    "\n",
    "_______________\n",
    "# Ploting methods"
   ]
  },
  {
   "cell_type": "code",
   "execution_count": 2,
   "metadata": {},
   "outputs": [],
   "source": [
    "def drawPlotLSA(best_y, curr_y, temp, acceptance_pb, acc_best_sol, prob_factor):\n",
    "    set_matplotlib_formats('retina')\n",
    "\n",
    "    x = np.arange(len(best_y))\n",
    "    string = str(prob_factor)\n",
    "    line1, = plt.plot(x, best_y, color='g')\n",
    "    line2, = plt.plot(x, temp, color='orange')\n",
    "    plt.scatter(x, curr_y, s=1, label='Current Solution', color='blue')\n",
    "    plt.scatter(x, acceptance_pb*prob_factor, s=1, label='Acceptance proba x'+string, color='pink')\n",
    "\n",
    "    line1.set_label('Best Solution')\n",
    "    line2.set_label('Temperature')\n",
    "\n",
    "\n",
    "    fig = plt.gcf()\n",
    "    fig.set_size_inches(13,10)\n",
    "\n",
    "    plt.legend()\n",
    "    plt.yscale('log')\n",
    "    plt.show()"
   ]
  },
  {
   "cell_type": "code",
   "execution_count": 3,
   "metadata": {},
   "outputs": [],
   "source": [
    "def drawPlotLSA2(best_y, curr_y):\n",
    "    set_matplotlib_formats('retina')\n",
    "\n",
    "    x = np.arange(len(best_y))\n",
    "    line1, = plt.plot(x, best_y, color='g')\n",
    "    plt.scatter(x, curr_y, s=1, label='Current Solution', color='blue')\n",
    "\n",
    "\n",
    "    line1.set_label('Best Solution')\n",
    "\n",
    "\n",
    "    fig = plt.gcf()\n",
    "    fig.set_size_inches(16,5)\n",
    "\n",
    "    plt.legend()\n",
    "    plt.show()"
   ]
  },
  {
   "cell_type": "code",
   "execution_count": null,
   "metadata": {},
   "outputs": [],
   "source": []
  },
  {
   "cell_type": "code",
   "execution_count": 4,
   "metadata": {},
   "outputs": [],
   "source": [
    "def drawPlotDSA(best_y, curr_y, temp, acceptance_pb, acc_best_sol, density, markov_len, prob_factor, density_factor):\n",
    "    set_matplotlib_formats('retina')\n",
    "\n",
    "    x = np.arange(len(best_y))\n",
    "    string = str(prob_factor)\n",
    "    string2 = str(density_factor)\n",
    "        \n",
    "    line1, = plt.plot(x, best_y, color='g')\n",
    "    line2, = plt.plot(x, temp, color='orange')\n",
    "    line3, = plt.plot(x, markov_len, color='grey')\n",
    "    line5, = plt.plot(x, density*density_factor, color='purple')\n",
    "    \n",
    "    plt.scatter(x, curr_y, s=3, marker=\">\", label='Current Solution', color='blue')\n",
    "    plt.scatter(x, acceptance_pb*prob_factor, s=1, marker='+', label='Acceptance proba x'+string, color='pink')\n",
    "\n",
    "\n",
    "    line1.set_label('Best Solution')\n",
    "    line2.set_label('Temperature')\n",
    "    line3.set_label('Actual MarkovChains Length')\n",
    "    line5.set_label('CG Density x'+string2)\n",
    "\n",
    "\n",
    "\n",
    "    fig = plt.gcf()\n",
    "    fig.set_size_inches(13,10)\n",
    "\n",
    "    plt.legend()\n",
    "    plt.yscale('log')\n",
    "    plt.show()"
   ]
  },
  {
   "cell_type": "code",
   "execution_count": 5,
   "metadata": {},
   "outputs": [],
   "source": [
    "def drawSolutionDSAMF(curr_y, best_y, curr_x, best_x):\n",
    "    set_matplotlib_formats('retina')\n",
    "\n",
    "    cm = plt.cm.get_cmap('Greys')\n",
    "    lenY = len(curr_y)\n",
    "\n",
    "    x = np.linspace(-5, 5, 10000)\n",
    "    y = np.log(0.1*np.sin(30*x) + 0.01*np.power(x, 4) - 0.1 *np.power(x,2) +1)+1;\n",
    "    #y = np.log(0.1*np.sin(10*x) + 0.01*np.power(x, 4) - 0.1 *np.power(x,2) +1)+1+0.7*x*x;\n",
    "\n",
    "    line1, = plt.plot(x, y, color='k',linewidth=0.3 , zorder=1)\n",
    "    line1.set_label('Objective function')\n",
    "    \n",
    "    plt.scatter(curr_x, curr_y, c=range(lenY), vmin=0, vmax=lenY, s=20, label='Current Solution', cmap=cm, zorder=10)\n",
    "    plt.scatter(best_x, best_y, s=50, marker=\"x\", label='Best Solution', color='red', zorder=100)\n",
    "\n",
    "    fig = plt.gcf()\n",
    "    fig.set_size_inches(15,15)\n",
    "\n",
    "    ax = plt.gca()\n",
    "    ax.set_facecolor('navajowhite')\n",
    "\n",
    "    plt.legend()\n",
    "    plt.show()"
   ]
  },
  {
   "cell_type": "code",
   "execution_count": null,
   "metadata": {},
   "outputs": [],
   "source": []
  },
  {
   "cell_type": "code",
   "execution_count": null,
   "metadata": {},
   "outputs": [],
   "source": []
  },
  {
   "cell_type": "code",
   "execution_count": 6,
   "metadata": {},
   "outputs": [],
   "source": [
    "def drawSolutionDSAMF3D(curr_y, best_y, curr_x, best_x):\n",
    "    set_matplotlib_formats('retina')\n",
    "    CMAP = \"viridis_r\"#\"viridis\"\n",
    "    \n",
    "    N = 1000\n",
    "    x = np.linspace(-10, 10, N)\n",
    "    y = np.linspace(-10, 10, N).reshape(-1, 1)\n",
    "    X, Y = np.meshgrid(x, y)\n",
    "    print(y)\n",
    "    #Z = np.sin(-0.15*(x*x+y*y))+0.05*(np.power(x+np.pi, 2)+np.power(y-2, 2)) + 2;\n",
    "    Z = 0.5*(np.sin(2*x)+np.sin(2*y))+0.005*(np.power(x,2)+np.power(y,2))+1\n",
    "\n",
    "\n",
    "    \n",
    "    fig, ax = plt.subplots()\n",
    "    cs = ax.contourf(X, Y, Z, 50, cmap=CMAP)\n",
    "    \n",
    "    \n",
    "    plt.scatter(curr_x, curr_y, c=range(len(curr_y)), vmin=0, vmax=len(curr_y), s=20, label='Current Solution', cmap=\"Greys\", zorder=10)\n",
    "    plt.scatter(best_x, best_y, s=50, marker=\"x\", label='Best Solution', color='red', zorder=100)\n",
    "\n",
    "\n",
    "    fig = plt.gcf()\n",
    "    fig.set_size_inches(13,10)\n",
    "\n",
    "    plt.xlabel(\"x values\")\n",
    "    plt.ylabel(\"y values\")\n",
    "\n",
    "    cbar = fig.colorbar(cs)\n",
    "\n",
    "    plt.show()"
   ]
  },
  {
   "cell_type": "code",
   "execution_count": null,
   "metadata": {},
   "outputs": [],
   "source": []
  }
 ],
 "metadata": {
  "kernelspec": {
   "display_name": "Python 3",
   "language": "python",
   "name": "python3"
  },
  "language_info": {
   "codemirror_mode": {
    "name": "ipython",
    "version": 3
   },
   "file_extension": ".py",
   "mimetype": "text/x-python",
   "name": "python",
   "nbconvert_exporter": "python",
   "pygments_lexer": "ipython3",
   "version": "3.7.1"
  }
 },
 "nbformat": 4,
 "nbformat_minor": 2
}
