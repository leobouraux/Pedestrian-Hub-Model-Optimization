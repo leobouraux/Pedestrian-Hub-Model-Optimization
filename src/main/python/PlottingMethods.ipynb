{
 "cells": [
  {
   "cell_type": "code",
   "execution_count": 44,
   "metadata": {},
   "outputs": [],
   "source": [
    "import numpy as np\n",
    "import re\n",
    "import matplotlib.pyplot as plt\n",
    "from IPython.display import set_matplotlib_formats\n",
    "set_matplotlib_formats('retina')\n",
    "%run ProcessData.ipynb"
   ]
  },
  {
   "cell_type": "markdown",
   "metadata": {},
   "source": [
    "\n",
    "\n",
    "_______________\n",
    "# Ploting methods"
   ]
  },
  {
   "cell_type": "code",
   "execution_count": 45,
   "metadata": {},
   "outputs": [],
   "source": [
    "def drawPlotLSA(best_y, curr_y, temp, acceptance_pb, acc_best_sol, prob_factor):\n",
    "    set_matplotlib_formats('retina')\n",
    "\n",
    "    x = np.arange(len(best_y))\n",
    "    string = str(prob_factor)\n",
    "    line1, = plt.plot(x, best_y, color='g')\n",
    "    line2, = plt.plot(x, temp, color='orange')\n",
    "    plt.scatter(x, curr_y, s=1, label='Current Solution', color='blue')\n",
    "    plt.scatter(x, acceptance_pb*prob_factor, s=1, label='Acceptance proba x'+string, color='pink')\n",
    "\n",
    "    line1.set_label('Best Solution')\n",
    "    line2.set_label('Temperature')\n",
    "\n",
    "\n",
    "    fig = plt.gcf()\n",
    "    fig.set_size_inches(13,10)\n",
    "\n",
    "    plt.legend()\n",
    "    plt.yscale('log')\n",
    "    plt.show()"
   ]
  },
  {
   "cell_type": "code",
   "execution_count": 46,
   "metadata": {},
   "outputs": [],
   "source": [
    "def drawPlotLSA2(best_y, curr_y):\n",
    "    set_matplotlib_formats('retina')\n",
    "\n",
    "    x = np.arange(len(best_y))\n",
    "    line1, = plt.plot(x, best_y, color='g')\n",
    "    plt.scatter(x, curr_y, s=1, label='Current Solution', color='blue')\n",
    "\n",
    "\n",
    "    line1.set_label('Best Solution')\n",
    "\n",
    "\n",
    "    fig = plt.gcf()\n",
    "    fig.set_size_inches(16,5)\n",
    "\n",
    "    plt.legend()\n",
    "    plt.show()"
   ]
  },
  {
   "cell_type": "code",
   "execution_count": null,
   "metadata": {},
   "outputs": [],
   "source": []
  },
  {
   "cell_type": "code",
   "execution_count": 47,
   "metadata": {},
   "outputs": [],
   "source": [
    "def drawPlotDSA(best_y, curr_y, temp, acceptance_pb, acc_best_sol, density, markov_len, prob_factor, density_factor):\n",
    "    set_matplotlib_formats('retina')\n",
    "\n",
    "    x = np.arange(len(best_y))\n",
    "    string = str(prob_factor)\n",
    "    string2 = str(density_factor)\n",
    "    \n",
    "    line1, = plt.plot(x, best_y, color='g')\n",
    "    line2, = plt.plot(x, temp, color='orange')\n",
    "    line3, = plt.plot(x, markov_len, color='grey')\n",
    "    line5, = plt.plot(x, density*density_factor, color='purple')\n",
    "    \n",
    "    plt.scatter(x, curr_y, s=3, marker=\">\", label='Current Solution', color='blue')\n",
    "    plt.scatter(x, acceptance_pb*prob_factor, s=1, marker='+', label='Acceptance proba x'+string, color='pink')\n",
    "\n",
    "\n",
    "    line1.set_label('Best Solution')\n",
    "    line2.set_label('Temperature')\n",
    "    line3.set_label('Actual MarkovChains Length')\n",
    "    line5.set_label('CG Density x'+string2)\n",
    "\n",
    "\n",
    "\n",
    "    fig = plt.gcf()\n",
    "    fig.set_size_inches(13,10)\n",
    "\n",
    "    plt.legend()\n",
    "    plt.yscale('log')\n",
    "    plt.show()"
   ]
  },
  {
   "cell_type": "code",
   "execution_count": 48,
   "metadata": {},
   "outputs": [],
   "source": [
    "def drawSolutionDSAMF(curr_y, best_y, curr_x):\n",
    "    set_matplotlib_formats('retina')\n",
    "\n",
    "    cm = plt.cm.get_cmap('Greys')\n",
    "    lenY = len(curr_y)\n",
    "\n",
    "    temp = 0\n",
    "    best_x = []\n",
    "    for i, v in enumerate(curr_y): \n",
    "        if v==best_y[i]:\n",
    "            best_x.append(curr_x[i])\n",
    "            temp = curr_x[i]\n",
    "        else:\n",
    "            best_x.append(temp)\n",
    "\n",
    "    x = np.linspace(-2, 2, 10000)\n",
    "    y = np.log(0.1*np.sin(10*x) + 0.01*np.power(x, 4) - 0.1 *np.power(x,2) +1)+1+0.7*x*x;\n",
    "\n",
    "    line1, = plt.plot(x, y, color='k',linewidth=0.3 , zorder=1)\n",
    "    line1.set_label('Objective function')\n",
    "    \n",
    "    plt.scatter(curr_x, curr_y, c=range(lenY), vmin=0, vmax=lenY, s=20, label='Current Solution', cmap=cm, zorder=10)\n",
    "    plt.scatter(best_x, best_y, s=50, marker=\"x\", label='Best Solution', color='red', zorder=100)\n",
    "\n",
    "    fig = plt.gcf()\n",
    "    fig.set_size_inches(15,15)\n",
    "\n",
    "    ax = plt.gca()\n",
    "    ax.set_facecolor('navajowhite')\n",
    "\n",
    "    plt.legend()\n",
    "    plt.show()"
   ]
  },
  {
   "cell_type": "code",
   "execution_count": null,
   "metadata": {},
   "outputs": [],
   "source": []
  },
  {
   "cell_type": "code",
   "execution_count": 49,
   "metadata": {},
   "outputs": [],
   "source": [
    "#path = \"../java/SimulatedAnnealing/GraphData/DSA_MinFunction.txt\"\n",
    "#best_y, curr_y, acceptance_pb, acc_best_sol, temp, density, markov_len, runtime, iteration_nbr = processDataDSA(path)\n",
    "#path = \"../java/SimulatedAnnealing/GraphData/DSA_MF_currX.txt\"\n",
    "#curr_x = processDataDSA_MF(path)\n",
    "#drawSolutionDSAMF(curr_y, best_y, curr_x)"
   ]
  },
  {
   "cell_type": "code",
   "execution_count": null,
   "metadata": {},
   "outputs": [],
   "source": []
  }
 ],
 "metadata": {
  "kernelspec": {
   "display_name": "Python 3",
   "language": "python",
   "name": "python3"
  },
  "language_info": {
   "codemirror_mode": {
    "name": "ipython",
    "version": 3
   },
   "file_extension": ".py",
   "mimetype": "text/x-python",
   "name": "python",
   "nbconvert_exporter": "python",
   "pygments_lexer": "ipython3",
   "version": "3.7.1"
  }
 },
 "nbformat": 4,
 "nbformat_minor": 2
}
