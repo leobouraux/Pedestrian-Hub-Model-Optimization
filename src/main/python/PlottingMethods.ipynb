{
 "cells": [
  {
   "cell_type": "code",
   "execution_count": 24,
   "metadata": {},
   "outputs": [],
   "source": [
    "import numpy as np\n",
    "import re\n",
    "import matplotlib.pyplot as plt\n",
    "from IPython.display import set_matplotlib_formats\n",
    "set_matplotlib_formats('retina')\n",
    "%run ProcessData.ipynb"
   ]
  },
  {
   "cell_type": "markdown",
   "metadata": {},
   "source": [
    "\n",
    "\n",
    "_______________\n",
    "# Ploting methods"
   ]
  },
  {
   "cell_type": "code",
   "execution_count": 25,
   "metadata": {},
   "outputs": [],
   "source": [
    "def drawPlotLSA(best_y, curr_y, temp, acceptance_pb, acc_best_sol, prob_factor):\n",
    "    x = np.arange(len(best_y))\n",
    "    string = str(prob_factor)\n",
    "    line1, = plt.plot(x, best_y, color='g')\n",
    "    line2, = plt.plot(x, temp, color='orange')\n",
    "    plt.scatter(x, curr_y, s=1, label='Current Solution', color='blue')\n",
    "    plt.scatter(x, acceptance_pb*prob_factor, s=1, label='Acceptance proba x'+string, color='pink')\n",
    "\n",
    "    line1.set_label('Best Solution')\n",
    "    line2.set_label('Temperature')\n",
    "\n",
    "\n",
    "    fig = plt.gcf()\n",
    "    fig.set_size_inches(13,10)\n",
    "\n",
    "    plt.legend()\n",
    "    plt.yscale('log')\n",
    "    plt.show()"
   ]
  },
  {
   "cell_type": "code",
   "execution_count": 26,
   "metadata": {},
   "outputs": [],
   "source": [
    "def drawPlotLSA2(best_y, curr_y):\n",
    "    x = np.arange(len(best_y))\n",
    "    line1, = plt.plot(x, best_y, color='g')\n",
    "    plt.scatter(x, curr_y, s=1, label='Current Solution', color='blue')\n",
    "\n",
    "\n",
    "    line1.set_label('Best Solution')\n",
    "\n",
    "\n",
    "    fig = plt.gcf()\n",
    "    fig.set_size_inches(16,5)\n",
    "\n",
    "    plt.legend()\n",
    "    plt.show()"
   ]
  },
  {
   "cell_type": "code",
   "execution_count": 22,
   "metadata": {},
   "outputs": [],
   "source": [
    "#def drawPlotDSA(best_y, curr_y, temp, acceptance_pb, acc_best_sol, ''''''):\n"
   ]
  },
  {
   "cell_type": "code",
   "execution_count": null,
   "metadata": {},
   "outputs": [],
   "source": []
  },
  {
   "cell_type": "code",
   "execution_count": null,
   "metadata": {},
   "outputs": [],
   "source": []
  },
  {
   "cell_type": "code",
   "execution_count": null,
   "metadata": {},
   "outputs": [],
   "source": []
  },
  {
   "cell_type": "code",
   "execution_count": null,
   "metadata": {},
   "outputs": [],
   "source": []
  }
 ],
 "metadata": {
  "kernelspec": {
   "display_name": "Python 3",
   "language": "python",
   "name": "python3"
  },
  "language_info": {
   "codemirror_mode": {
    "name": "ipython",
    "version": 3
   },
   "file_extension": ".py",
   "mimetype": "text/x-python",
   "name": "python",
   "nbconvert_exporter": "python",
   "pygments_lexer": "ipython3",
   "version": "3.7.1"
  }
 },
 "nbformat": 4,
 "nbformat_minor": 2
}
